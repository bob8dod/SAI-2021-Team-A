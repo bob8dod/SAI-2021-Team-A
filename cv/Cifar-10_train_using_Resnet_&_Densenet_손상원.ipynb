{
  "nbformat": 4,
  "nbformat_minor": 0,
  "metadata": {
    "colab": {
      "name": "Resnet & Densenet",
      "provenance": [],
      "collapsed_sections": []
    },
    "kernelspec": {
      "name": "python3",
      "display_name": "Python 3"
    },
    "language_info": {
      "name": "python"
    },
    "accelerator": "GPU"
  },
  "cells": [
    {
      "cell_type": "code",
      "metadata": {
        "id": "ka0U0TdfWnGw"
      },
      "source": [
        "#!pip install -q tensorflow-gpu==2.0.0-rc1\n",
        "import tensorflow as tf"
      ],
      "execution_count": 3,
      "outputs": []
    },
    {
      "cell_type": "code",
      "metadata": {
        "colab": {
          "base_uri": "https://localhost:8080/"
        },
        "id": "kXd3zl0pWsoJ",
        "outputId": "f0b470ed-635e-44ef-b67e-66bc4001427d"
      },
      "source": [
        "(x_train, y_train), (x_test, y_test) = tf.keras.datasets.cifar10.load_data()\n",
        "x_train, x_test = x_train / 255.0, x_test / 255.0"
      ],
      "execution_count": 4,
      "outputs": [
        {
          "output_type": "stream",
          "text": [
            "Downloading data from https://www.cs.toronto.edu/~kriz/cifar-10-python.tar.gz\n",
            "170500096/170498071 [==============================] - 2s 0us/step\n"
          ],
          "name": "stdout"
        }
      ]
    },
    {
      "cell_type": "code",
      "metadata": {
        "id": "MWS4dGAhW1HX"
      },
      "source": [
        "from tensorflow import keras\n",
        "from tensorflow.keras import layers"
      ],
      "execution_count": 2,
      "outputs": []
    },
    {
      "cell_type": "markdown",
      "metadata": {
        "id": "B2du5SBPj22e"
      },
      "source": [
        "1. Residual Block를 적용하지 않은 다수의 layer를 사용한 CNN"
      ]
    },
    {
      "cell_type": "code",
      "metadata": {
        "colab": {
          "base_uri": "https://localhost:8080/"
        },
        "id": "3q94OPIaWwjr",
        "outputId": "21e51c53-193b-4278-810b-6247eec7114d"
      },
      "source": [
        "inputs = keras.Input(shape=(32, 32, 3))\n",
        "x = inputs\n",
        "#x = layers.MaxPooling2D(2)(x)\n",
        "x = layers.Conv2D(128, 3, activation='relu', padding=\"same\")(x)\n",
        "x = layers.Conv2D(128, 3, activation='relu', padding=\"same\")(x)\n",
        "x = layers.Conv2D(128, 3, activation='relu', padding=\"same\")(x)\n",
        "x = layers.Conv2D(128, 3, activation='relu', padding=\"same\")(x)\n",
        "x = layers.Conv2D(128, 3, activation='relu', padding=\"same\")(x)\n",
        "x = layers.Conv2D(128, 3, activation='relu', padding=\"same\")(x)\n",
        "x = layers.Conv2D(128, 3, activation='relu', padding=\"same\")(x)\n",
        "x = layers.Conv2D(128, 3, activation='relu', padding=\"same\")(x)\n",
        "x = layers.MaxPooling2D(2)(x)\n",
        "\n",
        "x = layers.Flatten()(x)\n",
        "x = layers.Dense(128)(x)\n",
        "x = layers.Dense(128)(x)\n",
        "x = layers.Dense(10, activation='softmax')(x)\n",
        "outputs = x\n",
        "\n",
        "model = keras.Model(inputs, outputs)\n",
        "model.summary()"
      ],
      "execution_count": 5,
      "outputs": [
        {
          "output_type": "stream",
          "text": [
            "Model: \"model\"\n",
            "_________________________________________________________________\n",
            "Layer (type)                 Output Shape              Param #   \n",
            "=================================================================\n",
            "input_1 (InputLayer)         [(None, 32, 32, 3)]       0         \n",
            "_________________________________________________________________\n",
            "conv2d (Conv2D)              (None, 32, 32, 128)       3584      \n",
            "_________________________________________________________________\n",
            "conv2d_1 (Conv2D)            (None, 32, 32, 128)       147584    \n",
            "_________________________________________________________________\n",
            "conv2d_2 (Conv2D)            (None, 32, 32, 128)       147584    \n",
            "_________________________________________________________________\n",
            "conv2d_3 (Conv2D)            (None, 32, 32, 128)       147584    \n",
            "_________________________________________________________________\n",
            "conv2d_4 (Conv2D)            (None, 32, 32, 128)       147584    \n",
            "_________________________________________________________________\n",
            "conv2d_5 (Conv2D)            (None, 32, 32, 128)       147584    \n",
            "_________________________________________________________________\n",
            "conv2d_6 (Conv2D)            (None, 32, 32, 128)       147584    \n",
            "_________________________________________________________________\n",
            "conv2d_7 (Conv2D)            (None, 32, 32, 128)       147584    \n",
            "_________________________________________________________________\n",
            "max_pooling2d (MaxPooling2D) (None, 16, 16, 128)       0         \n",
            "_________________________________________________________________\n",
            "flatten (Flatten)            (None, 32768)             0         \n",
            "_________________________________________________________________\n",
            "dense (Dense)                (None, 128)               4194432   \n",
            "_________________________________________________________________\n",
            "dense_1 (Dense)              (None, 128)               16512     \n",
            "_________________________________________________________________\n",
            "dense_2 (Dense)              (None, 10)                1290      \n",
            "=================================================================\n",
            "Total params: 5,248,906\n",
            "Trainable params: 5,248,906\n",
            "Non-trainable params: 0\n",
            "_________________________________________________________________\n"
          ],
          "name": "stdout"
        }
      ]
    },
    {
      "cell_type": "code",
      "metadata": {
        "colab": {
          "base_uri": "https://localhost:8080/"
        },
        "id": "sggTonRjW2tV",
        "outputId": "60193b05-16d5-4d5f-819e-bae24fcd56b6"
      },
      "source": [
        "model.compile(optimizer='adam',\n",
        "              loss='sparse_categorical_crossentropy',\n",
        "              metrics=['accuracy'])\n",
        "model.fit(x_train, y_train, epochs=5)\n",
        "model.evaluate(x_test,  y_test, verbose=2)"
      ],
      "execution_count": 6,
      "outputs": [
        {
          "output_type": "stream",
          "text": [
            "Epoch 1/5\n",
            "1563/1563 [==============================] - 137s 68ms/step - loss: 2.3120 - accuracy: 0.0987\n",
            "Epoch 2/5\n",
            "1563/1563 [==============================] - 107s 69ms/step - loss: 2.3035 - accuracy: 0.1004\n",
            "Epoch 3/5\n",
            "1563/1563 [==============================] - 106s 68ms/step - loss: 2.3033 - accuracy: 0.0981\n",
            "Epoch 4/5\n",
            "1563/1563 [==============================] - 107s 69ms/step - loss: 2.3031 - accuracy: 0.1021\n",
            "Epoch 5/5\n",
            "1563/1563 [==============================] - 106s 68ms/step - loss: 2.3031 - accuracy: 0.0996\n",
            "313/313 - 6s - loss: 2.3028 - accuracy: 0.1000\n"
          ],
          "name": "stdout"
        },
        {
          "output_type": "execute_result",
          "data": {
            "text/plain": [
              "[2.302828073501587, 0.10000000149011612]"
            ]
          },
          "metadata": {
            "tags": []
          },
          "execution_count": 6
        }
      ]
    },
    {
      "cell_type": "markdown",
      "metadata": {
        "id": "kREAzRtEdsj3"
      },
      "source": [
        "2-1 max-pooling 없는 Resnet"
      ]
    },
    {
      "cell_type": "code",
      "metadata": {
        "colab": {
          "base_uri": "https://localhost:8080/"
        },
        "id": "o7XIhg_PXyS0",
        "outputId": "b517b273-10c2-4a83-bc18-abb2f1f481a9"
      },
      "source": [
        "inputs = keras.Input(shape=(32, 32, 3))\n",
        "x = inputs\n",
        "#x = layers.MaxPooling2D(2)(x)\n",
        "_x = layers.Conv2D(128, 3, activation='relu', padding=\"same\")(x)\n",
        "_x = layers.Conv2D(128, 3, activation='relu', padding=\"same\")(_x)\n",
        "x = _x\n",
        "_x = layers.Conv2D(128, 3, activation='relu', padding=\"same\")(x)\n",
        "_x = layers.Conv2D(128, 3, activation='relu', padding=\"same\")(_x)\n",
        "x = x + _x\n",
        "_x = layers.Conv2D(128, 3, activation='relu', padding=\"same\")(x)\n",
        "_x = layers.Conv2D(128, 3, activation='relu', padding=\"same\")(_x)\n",
        "x = x + _x\n",
        "_x = layers.Conv2D(128, 3, activation='relu', padding=\"same\")(x)\n",
        "_x = layers.Conv2D(128, 3, activation='relu', padding=\"same\")(_x)\n",
        "x = x + _x\n",
        "x = layers.MaxPooling2D(2)(x)\n",
        "\n",
        "x = layers.Flatten()(x)\n",
        "x = layers.Dense(128)(x)\n",
        "x = layers.Dense(128)(x)\n",
        "x = layers.Dense(10, activation='softmax')(x)\n",
        "outputs = x\n",
        "\n",
        "model = keras.Model(inputs, outputs)\n",
        "model.summary()"
      ],
      "execution_count": 7,
      "outputs": [
        {
          "output_type": "stream",
          "text": [
            "Model: \"model_1\"\n",
            "__________________________________________________________________________________________________\n",
            "Layer (type)                    Output Shape         Param #     Connected to                     \n",
            "==================================================================================================\n",
            "input_2 (InputLayer)            [(None, 32, 32, 3)]  0                                            \n",
            "__________________________________________________________________________________________________\n",
            "conv2d_8 (Conv2D)               (None, 32, 32, 128)  3584        input_2[0][0]                    \n",
            "__________________________________________________________________________________________________\n",
            "conv2d_9 (Conv2D)               (None, 32, 32, 128)  147584      conv2d_8[0][0]                   \n",
            "__________________________________________________________________________________________________\n",
            "conv2d_10 (Conv2D)              (None, 32, 32, 128)  147584      conv2d_9[0][0]                   \n",
            "__________________________________________________________________________________________________\n",
            "conv2d_11 (Conv2D)              (None, 32, 32, 128)  147584      conv2d_10[0][0]                  \n",
            "__________________________________________________________________________________________________\n",
            "tf.__operators__.add (TFOpLambd (None, 32, 32, 128)  0           conv2d_9[0][0]                   \n",
            "                                                                 conv2d_11[0][0]                  \n",
            "__________________________________________________________________________________________________\n",
            "conv2d_12 (Conv2D)              (None, 32, 32, 128)  147584      tf.__operators__.add[0][0]       \n",
            "__________________________________________________________________________________________________\n",
            "conv2d_13 (Conv2D)              (None, 32, 32, 128)  147584      conv2d_12[0][0]                  \n",
            "__________________________________________________________________________________________________\n",
            "tf.__operators__.add_1 (TFOpLam (None, 32, 32, 128)  0           tf.__operators__.add[0][0]       \n",
            "                                                                 conv2d_13[0][0]                  \n",
            "__________________________________________________________________________________________________\n",
            "conv2d_14 (Conv2D)              (None, 32, 32, 128)  147584      tf.__operators__.add_1[0][0]     \n",
            "__________________________________________________________________________________________________\n",
            "conv2d_15 (Conv2D)              (None, 32, 32, 128)  147584      conv2d_14[0][0]                  \n",
            "__________________________________________________________________________________________________\n",
            "tf.__operators__.add_2 (TFOpLam (None, 32, 32, 128)  0           tf.__operators__.add_1[0][0]     \n",
            "                                                                 conv2d_15[0][0]                  \n",
            "__________________________________________________________________________________________________\n",
            "max_pooling2d_1 (MaxPooling2D)  (None, 16, 16, 128)  0           tf.__operators__.add_2[0][0]     \n",
            "__________________________________________________________________________________________________\n",
            "flatten_1 (Flatten)             (None, 32768)        0           max_pooling2d_1[0][0]            \n",
            "__________________________________________________________________________________________________\n",
            "dense_3 (Dense)                 (None, 128)          4194432     flatten_1[0][0]                  \n",
            "__________________________________________________________________________________________________\n",
            "dense_4 (Dense)                 (None, 128)          16512       dense_3[0][0]                    \n",
            "__________________________________________________________________________________________________\n",
            "dense_5 (Dense)                 (None, 10)           1290        dense_4[0][0]                    \n",
            "==================================================================================================\n",
            "Total params: 5,248,906\n",
            "Trainable params: 5,248,906\n",
            "Non-trainable params: 0\n",
            "__________________________________________________________________________________________________\n"
          ],
          "name": "stdout"
        }
      ]
    },
    {
      "cell_type": "code",
      "metadata": {
        "colab": {
          "base_uri": "https://localhost:8080/"
        },
        "id": "69wqxWnNZlw9",
        "outputId": "8f86a698-563f-46f4-fb0f-7d481babee57"
      },
      "source": [
        "model.compile(optimizer='adam',\n",
        "              loss='sparse_categorical_crossentropy',\n",
        "              metrics=['accuracy'])\n",
        "model.fit(x_train, y_train, epochs=5)\n",
        "model.evaluate(x_test,  y_test, verbose=2)"
      ],
      "execution_count": 8,
      "outputs": [
        {
          "output_type": "stream",
          "text": [
            "Epoch 1/5\n",
            "1563/1563 [==============================] - 110s 70ms/step - loss: 1.8472 - accuracy: 0.3609\n",
            "Epoch 2/5\n",
            "1563/1563 [==============================] - 109s 70ms/step - loss: 1.2342 - accuracy: 0.5648\n",
            "Epoch 3/5\n",
            "1563/1563 [==============================] - 110s 70ms/step - loss: 1.1064 - accuracy: 0.6142\n",
            "Epoch 4/5\n",
            "1563/1563 [==============================] - 110s 71ms/step - loss: 1.0515 - accuracy: 0.6355\n",
            "Epoch 5/5\n",
            "1563/1563 [==============================] - 110s 71ms/step - loss: 1.0091 - accuracy: 0.6493\n",
            "313/313 - 6s - loss: 1.1664 - accuracy: 0.5918\n"
          ],
          "name": "stdout"
        },
        {
          "output_type": "execute_result",
          "data": {
            "text/plain": [
              "[1.1663626432418823, 0.5917999744415283]"
            ]
          },
          "metadata": {
            "tags": []
          },
          "execution_count": 8
        }
      ]
    },
    {
      "cell_type": "markdown",
      "metadata": {
        "id": "5G37jYWQdxN0"
      },
      "source": [
        "2-2 max-pooling 있는 Resnet"
      ]
    },
    {
      "cell_type": "code",
      "metadata": {
        "colab": {
          "base_uri": "https://localhost:8080/"
        },
        "id": "tBWj2hQ4dGH2",
        "outputId": "99abbf3c-098f-4c23-b7a7-cf2da5b70480"
      },
      "source": [
        "inputs = keras.Input(shape=(32, 32, 3))\n",
        "x = inputs\n",
        "#x = layers.MaxPooling2D(2)(x)\n",
        "_x = layers.Conv2D(128, 1, activation='relu', padding=\"same\")(x)\n",
        "_x = layers.Conv2D(128, 3, activation='relu', padding=\"same\")(_x)\n",
        "x = _x\n",
        "_x = layers.Conv2D(128, 1, activation='relu', padding=\"same\")(x)\n",
        "_x = layers.Conv2D(128, 3, activation='relu', padding=\"same\")(_x)\n",
        "_x = layers.Conv2D(128, 1, activation='relu', padding=\"same\")(_x)\n",
        "_x = layers.Conv2D(128, 3, activation='relu', padding=\"same\")(_x)\n",
        "x = x + _x\n",
        "x = layers.MaxPooling2D(2)(x)\n",
        "_x = layers.Conv2D(128, 1, activation='relu', padding=\"same\")(x)\n",
        "_x = layers.Conv2D(128, 3, activation='relu', padding=\"same\")(_x)\n",
        "_x = layers.Conv2D(128, 1, activation='relu', padding=\"same\")(_x)\n",
        "_x = layers.Conv2D(128, 3, activation='relu', padding=\"same\")(_x)\n",
        "_x = layers.Conv2D(128, 1, activation='relu', padding=\"same\")(_x)\n",
        "_x = layers.Conv2D(128, 3, activation='relu', padding=\"same\")(_x)\n",
        "x = x + _x\n",
        "x = layers.MaxPooling2D(2)(x)\n",
        "_x = layers.Conv2D(128, 1, activation='relu', padding=\"same\")(x)\n",
        "_x = layers.Conv2D(128, 3, activation='relu', padding=\"same\")(_x)\n",
        "_x = layers.Conv2D(128, 1, activation='relu', padding=\"same\")(_x)\n",
        "_x = layers.Conv2D(128, 3, activation='relu', padding=\"same\")(_x)\n",
        "_x = layers.Conv2D(128, 1, activation='relu', padding=\"same\")(_x)\n",
        "_x = layers.Conv2D(128, 3, activation='relu', padding=\"same\")(_x)\n",
        "_x = layers.Conv2D(128, 1, activation='relu', padding=\"same\")(_x)\n",
        "_x = layers.Conv2D(128, 3, activation='relu', padding=\"same\")(_x)\n",
        "x = x + _x\n",
        "x = layers.MaxPooling2D(2)(x)\n",
        "\n",
        "x = layers.Flatten()(x)\n",
        "x = layers.Dense(128)(x)\n",
        "x = layers.Dense(128)(x)\n",
        "x = layers.Dense(10, activation='softmax')(x)\n",
        "outputs = x\n",
        "\n",
        "model = keras.Model(inputs, outputs)\n",
        "model.summary()"
      ],
      "execution_count": 24,
      "outputs": [
        {
          "output_type": "stream",
          "text": [
            "Model: \"model_7\"\n",
            "__________________________________________________________________________________________________\n",
            "Layer (type)                    Output Shape         Param #     Connected to                     \n",
            "==================================================================================================\n",
            "input_15 (InputLayer)           [(None, 32, 32, 3)]  0                                            \n",
            "__________________________________________________________________________________________________\n",
            "conv2d_142 (Conv2D)             (None, 32, 32, 128)  512         input_15[0][0]                   \n",
            "__________________________________________________________________________________________________\n",
            "conv2d_143 (Conv2D)             (None, 32, 32, 128)  147584      conv2d_142[0][0]                 \n",
            "__________________________________________________________________________________________________\n",
            "conv2d_144 (Conv2D)             (None, 32, 32, 128)  16512       conv2d_143[0][0]                 \n",
            "__________________________________________________________________________________________________\n",
            "conv2d_145 (Conv2D)             (None, 32, 32, 128)  147584      conv2d_144[0][0]                 \n",
            "__________________________________________________________________________________________________\n",
            "conv2d_146 (Conv2D)             (None, 32, 32, 128)  16512       conv2d_145[0][0]                 \n",
            "__________________________________________________________________________________________________\n",
            "conv2d_147 (Conv2D)             (None, 32, 32, 128)  147584      conv2d_146[0][0]                 \n",
            "__________________________________________________________________________________________________\n",
            "tf.__operators__.add_49 (TFOpLa (None, 32, 32, 128)  0           conv2d_143[0][0]                 \n",
            "                                                                 conv2d_147[0][0]                 \n",
            "__________________________________________________________________________________________________\n",
            "max_pooling2d_33 (MaxPooling2D) (None, 16, 16, 128)  0           tf.__operators__.add_49[0][0]    \n",
            "__________________________________________________________________________________________________\n",
            "conv2d_148 (Conv2D)             (None, 16, 16, 128)  16512       max_pooling2d_33[0][0]           \n",
            "__________________________________________________________________________________________________\n",
            "conv2d_149 (Conv2D)             (None, 16, 16, 128)  147584      conv2d_148[0][0]                 \n",
            "__________________________________________________________________________________________________\n",
            "conv2d_150 (Conv2D)             (None, 16, 16, 128)  16512       conv2d_149[0][0]                 \n",
            "__________________________________________________________________________________________________\n",
            "conv2d_151 (Conv2D)             (None, 16, 16, 128)  147584      conv2d_150[0][0]                 \n",
            "__________________________________________________________________________________________________\n",
            "conv2d_152 (Conv2D)             (None, 16, 16, 128)  16512       conv2d_151[0][0]                 \n",
            "__________________________________________________________________________________________________\n",
            "conv2d_153 (Conv2D)             (None, 16, 16, 128)  147584      conv2d_152[0][0]                 \n",
            "__________________________________________________________________________________________________\n",
            "tf.__operators__.add_50 (TFOpLa (None, 16, 16, 128)  0           max_pooling2d_33[0][0]           \n",
            "                                                                 conv2d_153[0][0]                 \n",
            "__________________________________________________________________________________________________\n",
            "max_pooling2d_34 (MaxPooling2D) (None, 8, 8, 128)    0           tf.__operators__.add_50[0][0]    \n",
            "__________________________________________________________________________________________________\n",
            "conv2d_154 (Conv2D)             (None, 8, 8, 128)    16512       max_pooling2d_34[0][0]           \n",
            "__________________________________________________________________________________________________\n",
            "conv2d_155 (Conv2D)             (None, 8, 8, 128)    147584      conv2d_154[0][0]                 \n",
            "__________________________________________________________________________________________________\n",
            "conv2d_156 (Conv2D)             (None, 8, 8, 128)    16512       conv2d_155[0][0]                 \n",
            "__________________________________________________________________________________________________\n",
            "conv2d_157 (Conv2D)             (None, 8, 8, 128)    147584      conv2d_156[0][0]                 \n",
            "__________________________________________________________________________________________________\n",
            "conv2d_158 (Conv2D)             (None, 8, 8, 128)    16512       conv2d_157[0][0]                 \n",
            "__________________________________________________________________________________________________\n",
            "conv2d_159 (Conv2D)             (None, 8, 8, 128)    147584      conv2d_158[0][0]                 \n",
            "__________________________________________________________________________________________________\n",
            "conv2d_160 (Conv2D)             (None, 8, 8, 128)    16512       conv2d_159[0][0]                 \n",
            "__________________________________________________________________________________________________\n",
            "conv2d_161 (Conv2D)             (None, 8, 8, 128)    147584      conv2d_160[0][0]                 \n",
            "__________________________________________________________________________________________________\n",
            "tf.__operators__.add_51 (TFOpLa (None, 8, 8, 128)    0           max_pooling2d_34[0][0]           \n",
            "                                                                 conv2d_161[0][0]                 \n",
            "__________________________________________________________________________________________________\n",
            "max_pooling2d_35 (MaxPooling2D) (None, 4, 4, 128)    0           tf.__operators__.add_51[0][0]    \n",
            "__________________________________________________________________________________________________\n",
            "flatten_7 (Flatten)             (None, 2048)         0           max_pooling2d_35[0][0]           \n",
            "__________________________________________________________________________________________________\n",
            "dense_21 (Dense)                (None, 128)          262272      flatten_7[0][0]                  \n",
            "__________________________________________________________________________________________________\n",
            "dense_22 (Dense)                (None, 128)          16512       dense_21[0][0]                   \n",
            "__________________________________________________________________________________________________\n",
            "dense_23 (Dense)                (None, 10)           1290        dense_22[0][0]                   \n",
            "==================================================================================================\n",
            "Total params: 1,905,034\n",
            "Trainable params: 1,905,034\n",
            "Non-trainable params: 0\n",
            "__________________________________________________________________________________________________\n"
          ],
          "name": "stdout"
        }
      ]
    },
    {
      "cell_type": "code",
      "metadata": {
        "colab": {
          "base_uri": "https://localhost:8080/"
        },
        "id": "4Hz9uR14dG0W",
        "outputId": "12079872-a329-4429-85b8-135891422214"
      },
      "source": [
        "model.compile(optimizer='adam',\n",
        "              loss='sparse_categorical_crossentropy',\n",
        "              metrics=['accuracy'])\n",
        "model.fit(x_train, y_train, epochs=5)\n",
        "model.evaluate(x_test,  y_test, verbose=2)"
      ],
      "execution_count": 25,
      "outputs": [
        {
          "output_type": "stream",
          "text": [
            "Epoch 1/5\n",
            "1563/1563 [==============================] - 109s 69ms/step - loss: 1.6679 - accuracy: 0.3867\n",
            "Epoch 2/5\n",
            "1563/1563 [==============================] - 108s 69ms/step - loss: 1.1863 - accuracy: 0.5797\n",
            "Epoch 3/5\n",
            "1563/1563 [==============================] - 109s 69ms/step - loss: 1.0749 - accuracy: 0.6215\n",
            "Epoch 4/5\n",
            "1563/1563 [==============================] - 108s 69ms/step - loss: 1.0012 - accuracy: 0.6477\n",
            "Epoch 5/5\n",
            "1563/1563 [==============================] - 108s 69ms/step - loss: 0.9594 - accuracy: 0.6663\n",
            "313/313 - 6s - loss: 0.9676 - accuracy: 0.6637\n"
          ],
          "name": "stdout"
        },
        {
          "output_type": "execute_result",
          "data": {
            "text/plain": [
              "[0.9676258563995361, 0.6636999845504761]"
            ]
          },
          "metadata": {
            "tags": []
          },
          "execution_count": 25
        }
      ]
    },
    {
      "cell_type": "markdown",
      "metadata": {
        "id": "M95sPjfndiyh"
      },
      "source": [
        "3. Densenet 실습\n"
      ]
    },
    {
      "cell_type": "code",
      "metadata": {
        "colab": {
          "base_uri": "https://localhost:8080/"
        },
        "id": "Ss6UD51McA6W",
        "outputId": "194e72d9-f691-4c78-ed47-5d298a0bb161"
      },
      "source": [
        "inputs = keras.Input(shape=(32, 32, 3))\n",
        "x = inputs\n",
        "#x = layers.MaxPooling2D(2)(x)\n",
        "_x = layers.Conv2D(128, 1, activation='relu', padding=\"same\")(x)\n",
        "_x = layers.Conv2D(128, 3, activation='relu', padding=\"same\")(_x)\n",
        "x = _x\n",
        "x = layers.MaxPooling2D(2)(x)\n",
        "\n",
        "_x = layers.Conv2D(128, 1, activation='relu', padding=\"same\")(x)\n",
        "_x = layers.Conv2D(128, 3, activation='relu', padding=\"same\")(_x)\n",
        "x = x + _x\n",
        "_x = layers.Conv2D(128, 1, activation='relu', padding=\"same\")(x)\n",
        "_x = layers.Conv2D(128, 3, activation='relu', padding=\"same\")(_x)\n",
        "x = x + _x\n",
        "x = layers.MaxPooling2D(2)(x)\n",
        "\n",
        "_x = layers.Conv2D(128, 1, activation='relu', padding=\"same\")(x)\n",
        "_x = layers.Conv2D(128, 3, activation='relu', padding=\"same\")(_x)\n",
        "x = x + _x\n",
        "_x = layers.Conv2D(128, 1, activation='relu', padding=\"same\")(x)\n",
        "_x = layers.Conv2D(128, 3, activation='relu', padding=\"same\")(_x)\n",
        "x = x + _x\n",
        "_x = layers.Conv2D(128, 1, activation='relu', padding=\"same\")(x)\n",
        "_x = layers.Conv2D(128, 3, activation='relu', padding=\"same\")(_x)\n",
        "x = x + _x\n",
        "x = layers.MaxPooling2D(2)(x)\n",
        "\n",
        "_x = layers.Conv2D(128, 1, activation='relu', padding=\"same\")(x)\n",
        "_x = layers.Conv2D(128, 3, activation='relu', padding=\"same\")(_x)\n",
        "x = x + _x\n",
        "_x = layers.Conv2D(128, 1, activation='relu', padding=\"same\")(x)\n",
        "_x = layers.Conv2D(128, 3, activation='relu', padding=\"same\")(_x)\n",
        "x = x + _x\n",
        "_x = layers.Conv2D(128, 1, activation='relu', padding=\"same\")(x)\n",
        "_x = layers.Conv2D(128, 3, activation='relu', padding=\"same\")(_x)\n",
        "x = x + _x\n",
        "_x = layers.Conv2D(128, 1, activation='relu', padding=\"same\")(x)\n",
        "_x = layers.Conv2D(128, 3, activation='relu', padding=\"same\")(_x)\n",
        "x = x + _x\n",
        "x = layers.MaxPooling2D(2)(x)\n",
        "\n",
        "x = layers.Flatten()(x)\n",
        "x = layers.Dense(128)(x)\n",
        "x = layers.Dense(128)(x)\n",
        "x = layers.Dense(10, activation='softmax')(x)\n",
        "outputs = x\n",
        "\n",
        "model = keras.Model(inputs, outputs)\n",
        "model.summary()"
      ],
      "execution_count": 26,
      "outputs": [
        {
          "output_type": "stream",
          "text": [
            "Model: \"model_8\"\n",
            "__________________________________________________________________________________________________\n",
            "Layer (type)                    Output Shape         Param #     Connected to                     \n",
            "==================================================================================================\n",
            "input_16 (InputLayer)           [(None, 32, 32, 3)]  0                                            \n",
            "__________________________________________________________________________________________________\n",
            "conv2d_162 (Conv2D)             (None, 32, 32, 128)  512         input_16[0][0]                   \n",
            "__________________________________________________________________________________________________\n",
            "conv2d_163 (Conv2D)             (None, 32, 32, 128)  147584      conv2d_162[0][0]                 \n",
            "__________________________________________________________________________________________________\n",
            "max_pooling2d_36 (MaxPooling2D) (None, 16, 16, 128)  0           conv2d_163[0][0]                 \n",
            "__________________________________________________________________________________________________\n",
            "conv2d_164 (Conv2D)             (None, 16, 16, 128)  16512       max_pooling2d_36[0][0]           \n",
            "__________________________________________________________________________________________________\n",
            "conv2d_165 (Conv2D)             (None, 16, 16, 128)  147584      conv2d_164[0][0]                 \n",
            "__________________________________________________________________________________________________\n",
            "tf.__operators__.add_52 (TFOpLa (None, 16, 16, 128)  0           max_pooling2d_36[0][0]           \n",
            "                                                                 conv2d_165[0][0]                 \n",
            "__________________________________________________________________________________________________\n",
            "conv2d_166 (Conv2D)             (None, 16, 16, 128)  16512       tf.__operators__.add_52[0][0]    \n",
            "__________________________________________________________________________________________________\n",
            "conv2d_167 (Conv2D)             (None, 16, 16, 128)  147584      conv2d_166[0][0]                 \n",
            "__________________________________________________________________________________________________\n",
            "tf.__operators__.add_53 (TFOpLa (None, 16, 16, 128)  0           tf.__operators__.add_52[0][0]    \n",
            "                                                                 conv2d_167[0][0]                 \n",
            "__________________________________________________________________________________________________\n",
            "max_pooling2d_37 (MaxPooling2D) (None, 8, 8, 128)    0           tf.__operators__.add_53[0][0]    \n",
            "__________________________________________________________________________________________________\n",
            "conv2d_168 (Conv2D)             (None, 8, 8, 128)    16512       max_pooling2d_37[0][0]           \n",
            "__________________________________________________________________________________________________\n",
            "conv2d_169 (Conv2D)             (None, 8, 8, 128)    147584      conv2d_168[0][0]                 \n",
            "__________________________________________________________________________________________________\n",
            "tf.__operators__.add_54 (TFOpLa (None, 8, 8, 128)    0           max_pooling2d_37[0][0]           \n",
            "                                                                 conv2d_169[0][0]                 \n",
            "__________________________________________________________________________________________________\n",
            "conv2d_170 (Conv2D)             (None, 8, 8, 128)    16512       tf.__operators__.add_54[0][0]    \n",
            "__________________________________________________________________________________________________\n",
            "conv2d_171 (Conv2D)             (None, 8, 8, 128)    147584      conv2d_170[0][0]                 \n",
            "__________________________________________________________________________________________________\n",
            "tf.__operators__.add_55 (TFOpLa (None, 8, 8, 128)    0           tf.__operators__.add_54[0][0]    \n",
            "                                                                 conv2d_171[0][0]                 \n",
            "__________________________________________________________________________________________________\n",
            "conv2d_172 (Conv2D)             (None, 8, 8, 128)    16512       tf.__operators__.add_55[0][0]    \n",
            "__________________________________________________________________________________________________\n",
            "conv2d_173 (Conv2D)             (None, 8, 8, 128)    147584      conv2d_172[0][0]                 \n",
            "__________________________________________________________________________________________________\n",
            "tf.__operators__.add_56 (TFOpLa (None, 8, 8, 128)    0           tf.__operators__.add_55[0][0]    \n",
            "                                                                 conv2d_173[0][0]                 \n",
            "__________________________________________________________________________________________________\n",
            "max_pooling2d_38 (MaxPooling2D) (None, 4, 4, 128)    0           tf.__operators__.add_56[0][0]    \n",
            "__________________________________________________________________________________________________\n",
            "conv2d_174 (Conv2D)             (None, 4, 4, 128)    16512       max_pooling2d_38[0][0]           \n",
            "__________________________________________________________________________________________________\n",
            "conv2d_175 (Conv2D)             (None, 4, 4, 128)    147584      conv2d_174[0][0]                 \n",
            "__________________________________________________________________________________________________\n",
            "tf.__operators__.add_57 (TFOpLa (None, 4, 4, 128)    0           max_pooling2d_38[0][0]           \n",
            "                                                                 conv2d_175[0][0]                 \n",
            "__________________________________________________________________________________________________\n",
            "conv2d_176 (Conv2D)             (None, 4, 4, 128)    16512       tf.__operators__.add_57[0][0]    \n",
            "__________________________________________________________________________________________________\n",
            "conv2d_177 (Conv2D)             (None, 4, 4, 128)    147584      conv2d_176[0][0]                 \n",
            "__________________________________________________________________________________________________\n",
            "tf.__operators__.add_58 (TFOpLa (None, 4, 4, 128)    0           tf.__operators__.add_57[0][0]    \n",
            "                                                                 conv2d_177[0][0]                 \n",
            "__________________________________________________________________________________________________\n",
            "conv2d_178 (Conv2D)             (None, 4, 4, 128)    16512       tf.__operators__.add_58[0][0]    \n",
            "__________________________________________________________________________________________________\n",
            "conv2d_179 (Conv2D)             (None, 4, 4, 128)    147584      conv2d_178[0][0]                 \n",
            "__________________________________________________________________________________________________\n",
            "tf.__operators__.add_59 (TFOpLa (None, 4, 4, 128)    0           tf.__operators__.add_58[0][0]    \n",
            "                                                                 conv2d_179[0][0]                 \n",
            "__________________________________________________________________________________________________\n",
            "conv2d_180 (Conv2D)             (None, 4, 4, 128)    16512       tf.__operators__.add_59[0][0]    \n",
            "__________________________________________________________________________________________________\n",
            "conv2d_181 (Conv2D)             (None, 4, 4, 128)    147584      conv2d_180[0][0]                 \n",
            "__________________________________________________________________________________________________\n",
            "tf.__operators__.add_60 (TFOpLa (None, 4, 4, 128)    0           tf.__operators__.add_59[0][0]    \n",
            "                                                                 conv2d_181[0][0]                 \n",
            "__________________________________________________________________________________________________\n",
            "max_pooling2d_39 (MaxPooling2D) (None, 2, 2, 128)    0           tf.__operators__.add_60[0][0]    \n",
            "__________________________________________________________________________________________________\n",
            "flatten_8 (Flatten)             (None, 512)          0           max_pooling2d_39[0][0]           \n",
            "__________________________________________________________________________________________________\n",
            "dense_24 (Dense)                (None, 128)          65664       flatten_8[0][0]                  \n",
            "__________________________________________________________________________________________________\n",
            "dense_25 (Dense)                (None, 128)          16512       dense_24[0][0]                   \n",
            "__________________________________________________________________________________________________\n",
            "dense_26 (Dense)                (None, 10)           1290        dense_25[0][0]                   \n",
            "==================================================================================================\n",
            "Total params: 1,708,426\n",
            "Trainable params: 1,708,426\n",
            "Non-trainable params: 0\n",
            "__________________________________________________________________________________________________\n"
          ],
          "name": "stdout"
        }
      ]
    },
    {
      "cell_type": "code",
      "metadata": {
        "colab": {
          "base_uri": "https://localhost:8080/"
        },
        "id": "CFHitbK8cA8_",
        "outputId": "d88fe9f9-75fb-495b-b1ac-412b27f9e358"
      },
      "source": [
        "model.compile(optimizer='adam',\n",
        "              loss='sparse_categorical_crossentropy',\n",
        "              metrics=['accuracy'])\n",
        "model.fit(x_train, y_train, epochs=5)\n",
        "model.evaluate(x_test,  y_test, verbose=2)"
      ],
      "execution_count": 21,
      "outputs": [
        {
          "output_type": "stream",
          "text": [
            "Epoch 1/5\n",
            "1563/1563 [==============================] - 57s 35ms/step - loss: 1.6795 - accuracy: 0.3779\n",
            "Epoch 2/5\n",
            "1563/1563 [==============================] - 55s 35ms/step - loss: 0.9809 - accuracy: 0.6505\n",
            "Epoch 3/5\n",
            "1563/1563 [==============================] - 55s 35ms/step - loss: 0.7787 - accuracy: 0.7225\n",
            "Epoch 4/5\n",
            "1563/1563 [==============================] - 55s 35ms/step - loss: 0.6560 - accuracy: 0.7700\n",
            "Epoch 5/5\n",
            "1563/1563 [==============================] - 55s 35ms/step - loss: 0.5682 - accuracy: 0.7994\n",
            "313/313 - 3s - loss: 0.7549 - accuracy: 0.7490\n"
          ],
          "name": "stdout"
        },
        {
          "output_type": "execute_result",
          "data": {
            "text/plain": [
              "[0.7548727989196777, 0.7490000128746033]"
            ]
          },
          "metadata": {
            "tags": []
          },
          "execution_count": 21
        }
      ]
    }
  ]
}